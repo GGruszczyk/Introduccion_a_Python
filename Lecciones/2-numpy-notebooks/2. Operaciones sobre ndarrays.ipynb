{
 "cells": [
  {
   "cell_type": "markdown",
   "id": "d004f454",
   "metadata": {},
   "source": [
    "# Operaciones sobre ndarrays"
   ]
  },
  {
   "cell_type": "markdown",
   "id": "92333ef1",
   "metadata": {},
   "source": [
    "NumPy pone a nuestra disposición un amplio conjunto de funciones optimizadas para aplicar sobre ndarrays de forma global evitando así la necesidad de utilizar bucles (mucho más costosos)."
   ]
  },
  {
   "cell_type": "code",
   "execution_count": 1,
   "id": "3490c72f",
   "metadata": {},
   "outputs": [],
   "source": [
    "import numpy as np\n",
    "\n",
    "import warnings; warnings.simplefilter('ignore')"
   ]
  },
  {
   "cell_type": "markdown",
   "id": "804c0018",
   "metadata": {},
   "source": [
    "### Operaciones elemento a elemento - Universal functions"
   ]
  },
  {
   "cell_type": "markdown",
   "id": "bd60959e",
   "metadata": {},
   "source": [
    "El primero de los conjuntos de funciones ofrecido por NumPy son las llamadas \"funciones universales\" (o ufuncs) que permiten la realización de operaciones elemento a elemento de un array. En función del número de parámetros encontramos dos tipos de funciones universales."
   ]
  },
  {
   "cell_type": "markdown",
   "id": "61336888",
   "metadata": {},
   "source": [
    "#### Funciones unarias"
   ]
  },
  {
   "cell_type": "markdown",
   "id": "5047ce9d",
   "metadata": {},
   "source": [
    "Son aquellas funciones que reciben como parámetro un único ndarray.<br/>\n",
    "<ul>\n",
    "<li><b>abs, fabs:</b> Valor absoluto.</li>\n",
    "<li><b>sqrt:</b> Raíz cuadrada (equivalente a array \\*\\* 0.5).</li>\n",
    "<li><b>square:</b> Potencia al cuadrado (equivalente a array ** 2).</li>\n",
    "<li><b>exp:</b> Potencia de e.</li>\n",
    "<li><b>log, log10, log2, log1p:</b> Logaritmos en distintas bases.</li>\n",
    "<li><b>sign:</b> Signo (+ = 1 / - = -1 / 0 = 0).</li>\n",
    "<li><b>ceil:</b> Techo.</li>\n",
    "<li><b>floor:</b> Suelo.</li>\n",
    "<li><b>rint:</b> Redondeo al entero más cercano.</li>\n",
    "<li><b>modf:</b> Devuelve dos arrays uno con la parte fraccionaria y otro con la parte entera.</li>\n",
    "<li><b>isnan:</b> Devuelve un array booleano indicando si el valor es NaN o no.</li>\n",
    "<li><b>isfinite, isinf:</b> Devuelve un array booleano indicando si el valor es finito o no.</li>\n",
    "<li><b>cos, cosh, sin, sinh, tan, tanh:</b> Funciones trigonométricas.</li>\n",
    "<li><b>arccos, arccosh, arcsin, arcsinh, arctan, arctanh:</b> Funciones trigonométricas inversas.</li>\n",
    "<li><b>logical_not:</b> Inverso booleano de todos los valores del array (equivalente a -(array)).</li>\n",
    "</ul>"
   ]
  },
  {
   "cell_type": "markdown",
   "id": "02ef1f02",
   "metadata": {},
   "source": [
    "Algunos ejemplos:"
   ]
  },
  {
   "cell_type": "code",
   "execution_count": 2,
   "id": "f8d63f4d",
   "metadata": {},
   "outputs": [
    {
     "name": "stdout",
     "output_type": "stream",
     "text": [
      "array:\n",
      " [[ 0.03432347 -0.22727251 -0.24200645  1.13137272 -0.1936286 ]\n",
      " [-0.43116828 -1.95191745  0.0800655  -0.98793886 -1.29347029]] \n",
      "\n",
      "valor absoluto:\n",
      " [[0.03432347 0.22727251 0.24200645 1.13137272 0.1936286 ]\n",
      " [0.43116828 1.95191745 0.0800655  0.98793886 1.29347029]] \n",
      "\n",
      "raiz cuadrada:\n",
      " [[0.18526594        nan        nan 1.06366006        nan]\n",
      " [       nan        nan 0.28295848        nan        nan]] \n",
      "\n",
      "exponencial:\n",
      " [[1.03491932 0.79670364 0.78505111 3.0999089  0.82396387]\n",
      " [0.64974956 0.14200153 1.08335803 0.37234335 0.27431717]] \n",
      "\n",
      "logaritmo natural:\n",
      " [[-3.3719259          nan         nan  0.1234317          nan]\n",
      " [        nan         nan -2.52491018         nan         nan]] \n",
      "\n",
      "floor:\n",
      " [[ 0. -1. -1.  1. -1.]\n",
      " [-1. -2.  0. -1. -2.]] \n",
      "\n",
      "ceil:\n",
      " [[ 1. -0. -0.  2. -0.]\n",
      " [-0. -1.  1. -0. -1.]] \n",
      "\n",
      "valores nan:\n",
      " [[False  True  True False  True]\n",
      " [ True  True False  True  True]] \n",
      "\n"
     ]
    }
   ],
   "source": [
    "array = np.random.randn(2, 5)\n",
    "\n",
    "print(\"array:\\n\",array, \"\\n\")\n",
    "\n",
    "print(\"valor absoluto:\\n\", np.abs(array), \"\\n\")\n",
    "print(\"raiz cuadrada:\\n\", np.sqrt(array), \"\\n\")\n",
    "print(\"exponencial:\\n\", np.exp(array), \"\\n\")\n",
    "print(\"logaritmo natural:\\n\", np.log(array), \"\\n\")\n",
    "print(\"floor:\\n\", np.floor(array), \"\\n\")\n",
    "print(\"ceil:\\n\", np.ceil(array), \"\\n\")\n",
    "print(\"valores nan:\\n\", np.isnan(np.sqrt(array)), \"\\n\")"
   ]
  },
  {
   "cell_type": "markdown",
   "id": "2a68a132",
   "metadata": {},
   "source": [
    "#### Funciones binarias"
   ]
  },
  {
   "cell_type": "markdown",
   "id": "e6b8594e",
   "metadata": {},
   "source": [
    "Son aquellas funciones que reciben como parámetro dos arrays.\n",
    "<ul>\n",
    "<li><b>add:</b> Adición de los elementos de los dos arrays (equivalente a array1 + array2).</li>\n",
    "<li><b>subtract:</b> Resta de los elementos de los dos arrays (equivalente a array1 - array2).</li>\n",
    "<li><b>multiply:</b> Multiplica los elementos de los dos arrays (equivalente a array1 \\* array2).</li>\n",
    "<li><b>divide, floor_divide:</b> Divide los elementos de los dos arrays (equivalente a array1 / (o //) array2).</li>\n",
    "<li><b>power:</b> Eleva los elementos del primer array a las potencias del segundo (equivalente a array1 ** array2).</li>\n",
    "<li><b>maximum, fmax:</b> Calcula el máximo de los dos arrays (elemento a elemento). fmax ignora NaN.</li>\n",
    "<li><b>minimum, fmin:</b> Calcula el mínimo de los dos arrays (elemento a elemento). fmax ignora NaN.</li>\n",
    "<li><b>mod:</b> Calcula el resto de la división de los dos arrays (equivalente a array1 % array2).</li>\n",
    "<li><b>greater, greater_equal, less, less_equal, equal, not_equal:</b> Comparativas sobre los elementos de ambos ndarrays (elemento a elemento).</li>\n",
    "<li><b>logical_and, logical_or, logical_xor:</b> Operaciones booleanas sobre los elementos de ambos ndarrays (elemento a elemento).</li>\n",
    "</ul>"
   ]
  },
  {
   "cell_type": "markdown",
   "id": "28c0e25d",
   "metadata": {},
   "source": [
    "Algunos ejemplos:"
   ]
  },
  {
   "cell_type": "code",
   "execution_count": 3,
   "id": "3550bd97",
   "metadata": {},
   "outputs": [
    {
     "name": "stdout",
     "output_type": "stream",
     "text": [
      "array1:\n",
      " [[1 4 5 3 7]\n",
      " [7 4 6 4 5]] \n",
      "\n",
      "array2:\n",
      " [[7 7 3 3 4]\n",
      " [9 4 3 5 4]] \n",
      "\n",
      "suma:\n",
      " [[ 8 11  8  6 11]\n",
      " [16  8  9  9  9]] \n",
      "\n",
      "resta:\n",
      " [[-6 -3  2  0  3]\n",
      " [-2  0  3 -1  1]] \n",
      "\n",
      "multiplicación:\n",
      " [[ 7 28 15  9 28]\n",
      " [63 16 18 20 20]] \n",
      "\n",
      "división:\n",
      " [[0.14285714 0.57142857 1.66666667 1.         1.75      ]\n",
      " [0.77777778 1.         2.         0.8        1.25      ]] \n",
      "\n",
      "potencia:\n",
      " [[       1    16384      125       27     2401]\n",
      " [40353607      256      216     1024      625]] \n",
      "\n",
      "máximo:\n",
      " [[7 7 5 3 7]\n",
      " [9 4 6 5 5]] \n",
      "\n",
      "mayor que:\n",
      " [[False False  True False  True]\n",
      " [False False  True False  True]] \n",
      "\n"
     ]
    }
   ],
   "source": [
    "array1 = np.random.random_integers(10, size=(2,5))\n",
    "array2 = np.random.random_integers(10, size=(2,5))\n",
    "\n",
    "print(\"array1:\\n\",array1, \"\\n\")\n",
    "print(\"array2:\\n\",array2, \"\\n\")\n",
    "\n",
    "print(\"suma:\\n\", np.add(array1,array2), \"\\n\")\n",
    "print(\"resta:\\n\", np.subtract(array1,array2), \"\\n\")\n",
    "print(\"multiplicación:\\n\", np.multiply(array1,array2), \"\\n\")\n",
    "print(\"división:\\n\", np.divide(array1,array2), \"\\n\")\n",
    "print(\"potencia:\\n\", np.power(array1,array2), \"\\n\")\n",
    "print(\"máximo:\\n\", np.maximum(array1,array2), \"\\n\")\n",
    "print(\"mayor que:\\n\", np.greater(array1,array2), \"\\n\")"
   ]
  },
  {
   "cell_type": "markdown",
   "id": "584ee0db",
   "metadata": {},
   "source": [
    "### Selección de elementos de ndarrays en función de una condición"
   ]
  },
  {
   "cell_type": "markdown",
   "id": "5ee47b9d",
   "metadata": {},
   "source": [
    "NumPy pone a nuestra disposición, a través de la función <b>np.where</b> la posibilidad de generar un array de salida a partir de dos de entrada, estableciendo una máscara booleana que indique si (elemento a elemento) debemos enviar a la salida el elemento del primer ndarray (valor True) o del segundo (valor False)."
   ]
  },
  {
   "cell_type": "code",
   "execution_count": 4,
   "id": "170b368a",
   "metadata": {},
   "outputs": [
    {
     "name": "stdout",
     "output_type": "stream",
     "text": [
      "array1:\n",
      " [[-0.32191201 -1.52187377 -0.4887973   0.57624139 -1.16257721]\n",
      " [-0.91951481 -1.21703311 -0.23323835 -0.27868128 -1.58374534]\n",
      " [ 0.88665692  0.85020783  0.2738285  -1.30456209  1.09542416]\n",
      " [ 0.14108838  1.31893723  0.23927514 -1.36444768 -2.20400749]\n",
      " [ 2.04632212 -1.43189111 -0.11878581  0.65114416  0.20398021]] \n",
      "\n",
      "array2:\n",
      " [[-0.07335825 -0.0922523  -0.48953405  0.715922    1.11445459]\n",
      " [-1.35173175  1.03121226  0.19067578  1.73369797 -0.02764025]\n",
      " [-0.02948347 -0.19636667  0.08807942 -0.82353622 -0.94894108]\n",
      " [ 0.81097264  0.65631292  2.32978042 -0.79605461 -0.58539472]\n",
      " [-0.07154776 -0.16385262 -0.83966954 -0.64667236 -2.47436113]]\n",
      "\n",
      "Fusión condicional:\n",
      "[[-0.32191201 -1.52187377 -0.48953405  0.57624139 -1.16257721]\n",
      " [-1.35173175 -1.21703311 -0.23323835 -0.27868128 -1.58374534]\n",
      " [-0.02948347 -0.19636667  0.08807942 -1.30456209 -0.94894108]\n",
      " [ 0.14108838  0.65631292  0.23927514 -1.36444768 -2.20400749]\n",
      " [-0.07154776 -1.43189111 -0.83966954 -0.64667236 -2.47436113]]\n",
      "\n",
      "Anidación de condiciones:\n",
      "[[ 0.          0.         -0.48953405  0.57624139  0.        ]\n",
      " [-1.35173175  0.          0.          0.          0.        ]\n",
      " [-0.02948347 -0.19636667  0.08807942  0.         -0.94894108]\n",
      " [ 0.14108838  0.65631292  0.23927514  0.          0.        ]\n",
      " [-0.07154776  0.         -0.83966954 -0.64667236 -2.47436113]]\n"
     ]
    }
   ],
   "source": [
    "array1 = np.random.randn(5,5)\n",
    "array2 = np.random.randn(5, 5)\n",
    "\n",
    "print(\"array1:\\n\",array1,\"\\n\")\n",
    "print(\"array2:\\n\",array2)\n",
    "\n",
    "print(\"\\nFusión condicional:\")\n",
    "print(np.where(array1 < array2, array1, array2))\n",
    "\n",
    "print(\"\\nAnidación de condiciones:\")\n",
    "print(np.where(array1 < array2, np.where(array1 < 0, 0, array1), array2))"
   ]
  },
  {
   "cell_type": "markdown",
   "id": "fb3cf4e6",
   "metadata": {},
   "source": [
    "### Funciones matemáticas y estadísticas"
   ]
  },
  {
   "cell_type": "markdown",
   "id": "28989f9c",
   "metadata": {},
   "source": [
    "NumPy ofrece un amplio conjunto de funciones matemáticas y estadísticas que se pueden aplicar sobre ndarrays. A continuación se pueden encontrar los ejemplos más típicos (hay algunas más que pueden consultarse en la documentación oficial de NumPy).<br/>\n",
    "<ul>\n",
    "<li><b>sum:</b> Suma de elementos.</li>\n",
    "<li><b>mean:</b> Media aritmética de los elementos.</li>\n",
    "<li><b>median:</b> Mediana de los elementos.</li>\n",
    "<li><b>std:</b> Desviación estándar de los elementos.</li>\n",
    "<li><b>var:</b> Varianza de los elementos.</li>\n",
    "<li><b>min:</b> Valor mínimo de los elementos.</li>\n",
    "<li><b>max:</b> Valor máximo de los elementos.</li>\n",
    "<li><b>argmin:</b> Índice del valor mínimo.</li>\n",
    "<li><b>argmax:</b> Índice del valor máximo.</li>\n",
    "<li><b>cumsum:</b> Suma acumulada de los elementos.</li>\n",
    "<li><b>cumprod:</b> Producto acumulado de los elementos.</li>\n",
    "</ul>\n",
    "\n",
    "Todas estas funciones pueden recibir, además del ndarray sobre el que se aplicarán, un segundo parámetro llamado <b>axis</b>. Si no se recibe este parámetro las funciones se aplicarán sobre el conjunto global de los elementos del ndarray, pero si se incluye, podrá tomar dos valores:\n",
    "<ul>\n",
    "<li>Valor 0: Aplicará la función por columnas</li>\n",
    "<li>Valor 1: Aplicará la función por filas</li>"
   ]
  },
  {
   "cell_type": "code",
   "execution_count": 5,
   "id": "7371df8a",
   "metadata": {},
   "outputs": [
    {
     "name": "stdout",
     "output_type": "stream",
     "text": [
      "array:\n",
      " [[-0.10847265  0.354711    0.16827281 -0.22815404]\n",
      " [ 1.09750307 -0.92153408 -0.00622435 -1.44022786]\n",
      " [ 0.5697455  -0.97910691 -0.81195628 -0.83867949]\n",
      " [ 1.05704658 -1.14811228  1.64003176 -1.08575686]\n",
      " [-1.2370986   0.33452549 -0.63173685 -0.62535081]] \n",
      "\n",
      "\n",
      "Operación global:\n",
      "-4.840574856253628\n",
      "\n",
      "Operación por columnas:\n",
      "[ 1.37872389 -2.35951679  0.35838709 -4.21816906]\n",
      "\n",
      "Operación por filas:\n",
      "[ 0.18635712 -1.27048322 -2.05999718  0.4632092  -2.15966077]\n"
     ]
    }
   ],
   "source": [
    "array = np.random.randn(5,4)\n",
    "\n",
    "print(\"array:\\n\",array,\"\\n\")\n",
    "\n",
    "print(\"\\nOperación global:\")\n",
    "print(np.sum(array))\n",
    "\n",
    "print(\"\\nOperación por columnas:\")\n",
    "print(np.sum(array, 0))\n",
    "\n",
    "print(\"\\nOperación por filas:\")\n",
    "print(np.sum(array, 1))"
   ]
  },
  {
   "cell_type": "markdown",
   "id": "af1609d3",
   "metadata": {},
   "source": [
    "Adicionalmente algunas de estas funciones pueden ser utilizadas como \"métodos\" de los ndarray y no sólo como funciones sobre los mismos. En este caso la sintáxis cambiará y se utilizará la notación \"ndarray.funcion()\" "
   ]
  },
  {
   "cell_type": "code",
   "execution_count": 6,
   "id": "0fba7a83",
   "metadata": {},
   "outputs": [
    {
     "name": "stdout",
     "output_type": "stream",
     "text": [
      "-4.840574856253628\n",
      "[ 1.37872389 -2.35951679  0.35838709 -4.21816906]\n",
      "[ 0.18635712 -1.27048322 -2.05999718  0.4632092  -2.15966077]\n"
     ]
    }
   ],
   "source": [
    "print(array.sum())\n",
    "print(array.sum(0))\n",
    "print(array.sum(1))"
   ]
  },
  {
   "cell_type": "markdown",
   "id": "ade81c25",
   "metadata": {},
   "source": [
    "### Operaciones sobre ndarrays booleanos"
   ]
  },
  {
   "cell_type": "markdown",
   "id": "e1edfd9f",
   "metadata": {},
   "source": [
    "Dado que, internamente, Python trata los valores booleanos True como 1 y los False como 0, es muy sencillo realizar operaciones matemáticas sobre estos valores booleanos de forma que se puedan hacer diferentes chequeos. Por ejemplo..."
   ]
  },
  {
   "cell_type": "code",
   "execution_count": 7,
   "id": "d3d36b56",
   "metadata": {},
   "outputs": [
    {
     "name": "stdout",
     "output_type": "stream",
     "text": [
      "array:\n",
      " [[ 0.13283005  0.4830224   0.68838994  1.19060459 -2.05955752]\n",
      " [-1.07292916 -0.26150898 -0.71344026  0.19870117  0.40830547]\n",
      " [ 1.64314128  0.42087878 -1.57105494 -1.38314558 -0.40660443]\n",
      " [-2.0865984  -1.03249123 -0.46459606 -0.8345946   0.19866413]\n",
      " [-1.15227681  0.32380771  1.70105273 -0.85383428 -0.42233526]] \n",
      "\n",
      "\n",
      "Elementos mayores que 0\n",
      "11\n",
      "\n",
      "Elementos menores que la media\n",
      "13\n"
     ]
    }
   ],
   "source": [
    "array = np.random.randn(5,5)\n",
    "\n",
    "print(\"array:\\n\",array,\"\\n\")\n",
    "\n",
    "print(\"\\nElementos mayores que 0\")\n",
    "print((array>0).sum())\n",
    "\n",
    "print(\"\\nElementos menores que la media\")\n",
    "print((array < array.mean()).sum())\n"
   ]
  },
  {
   "cell_type": "markdown",
   "id": "3a58e675",
   "metadata": {},
   "source": [
    "NumPy también pone a nuestra disposición dos funciones de chequeo predefinidas sobre ndarrays booleanos:<br/>\n",
    "<ul>\n",
    "<li><b>any:</b> Para comprobar si alguno de los elementos es True.</li>\n",
    "<li><b>all:</b> Para comprobar si todos los elementos son True.</li>\n",
    "</ul>"
   ]
  },
  {
   "cell_type": "code",
   "execution_count": 8,
   "id": "ee87063e",
   "metadata": {},
   "outputs": [
    {
     "name": "stdout",
     "output_type": "stream",
     "text": [
      "Alguno de los elementos es igual a 0\n",
      "False\n",
      "\n",
      "Todos los elementos son menores que 0\n",
      "False\n",
      "\n",
      "Todos los elementos entan en un rango\n",
      "False\n"
     ]
    }
   ],
   "source": [
    "print(\"Alguno de los elementos es igual a 0\")\n",
    "print((array==0).any())\n",
    "\n",
    "print(\"\\nTodos los elementos son menores que 0\")\n",
    "print((array<0).all())\n",
    "\n",
    "print(\"\\nTodos los elementos entan en un rango\")\n",
    "print( ((array >= -2) & (array <=2)).all() )"
   ]
  },
  {
   "cell_type": "markdown",
   "id": "6d419abf",
   "metadata": {},
   "source": [
    "### Ordenación de ndarrays"
   ]
  },
  {
   "cell_type": "code",
   "execution_count": 9,
   "id": "71921451",
   "metadata": {},
   "outputs": [
    {
     "name": "stdout",
     "output_type": "stream",
     "text": [
      "array:\n",
      " [[3 2 7 2 1]\n",
      " [3 2 8 8 7]]\n",
      "\n",
      "Datos ordenados\n",
      "[[1 2 2 3 7]\n",
      " [2 3 7 8 8]]\n",
      "\n",
      "Datos ordenados según el primer eje\n",
      "[[3 2 7 2 1]\n",
      " [3 2 8 8 7]]\n",
      "\n",
      "Datos ordenados de forma unidimensional\n",
      "[1 2 2 2 3 3 7 7 8 8]\n"
     ]
    }
   ],
   "source": [
    "array = np.random.randint(10,size=(2,5))\n",
    "print(\"array:\\n\",array)\n",
    "\n",
    "print(\"\\nDatos ordenados\")\n",
    "print(np.sort(array)) # sort along the last axis\n",
    "\n",
    "print(\"\\nDatos ordenados según el primer eje\")\n",
    "print(np.sort(array, axis=0)) # sort along the first axis\n",
    "\n",
    "print(\"\\nDatos ordenados de forma unidimensional\")\n",
    "print(np.sort(array, axis=None)) # sort the flattened array\n"
   ]
  },
  {
   "cell_type": "markdown",
   "id": "1e4fe027",
   "metadata": {},
   "source": [
    "### Funciones de conjunto"
   ]
  },
  {
   "cell_type": "markdown",
   "id": "030e9228",
   "metadata": {},
   "source": [
    "NumPy permite realizar tratamientos sobre un ndarray asumiendo que el total de los elementos del mismo forman un conjunto.<br/>\n",
    "<ul>\n",
    "<li><b>unique:</b> Calcula el conjunto único de elementos sin duplicados.</li>\n",
    "<li><b>intersect1d:</b> Calcula la intersección de los elementos de dos arrays.</li>\n",
    "<li><b>union1d:</b> Calcula la unión de los elementos de dos arays.</li>\n",
    "<li><b>in1d:</b> Calcula un array booleano que indica si cada elemento del primer array está contenido en el segundo.</li>\n",
    "<li><b>setdiff1d:</b> Calcula la diferencia entre ambos conjuntos.</li>\n",
    "<li><b>setxor1d:</b> Calcula la diferencia simétrica entre ambos conjuntos.</li>\n",
    "</ul>"
   ]
  },
  {
   "cell_type": "code",
   "execution_count": 10,
   "id": "13f5fcb5",
   "metadata": {},
   "outputs": [
    {
     "name": "stdout",
     "output_type": "stream",
     "text": [
      "conjunto único array1: [0 2 3 5 6]\n",
      "intersección: [2 3 5 6]\n",
      "unión: [0 1 2 3 4 5 6 7]\n",
      "está contenido en: [ True False False False  True  True  True  True]\n",
      "elementos del primer array no contenidos en el segundo [0]\n",
      "diferencia simétrica: [0 1 4 7]\n"
     ]
    }
   ],
   "source": [
    "array1 = np.array([6, 0, 0, 0, 3, 2, 5, 6])\n",
    "array2 = np.array([7, 4, 3, 1, 2, 6, 5])\n",
    "\n",
    "print(\"conjunto único array1:\", np.unique(array1))\n",
    "print(\"intersección:\", np.intersect1d(array1,array2))\n",
    "print(\"unión:\", np.union1d(array1,array2))\n",
    "print(\"está contenido en:\", np.in1d(array1,array2))\n",
    "print(\"elementos del primer array no contenidos en el segundo\", np.setdiff1d(array1,array2))\n",
    "print(\"diferencia simétrica:\", np.setxor1d(array1,array2))"
   ]
  }
 ],
 "metadata": {
  "interpreter": {
   "hash": "cf1294956fef1240422931e30f0bd2b8a010980abc7ffd44823932dbab40fd93"
  },
  "kernelspec": {
   "display_name": "Python 3",
   "language": "python",
   "name": "python3"
  },
  "language_info": {
   "codemirror_mode": {
    "name": "ipython",
    "version": 3
   },
   "file_extension": ".py",
   "mimetype": "text/x-python",
   "name": "python",
   "nbconvert_exporter": "python",
   "pygments_lexer": "ipython3",
   "version": "3.10.11"
  }
 },
 "nbformat": 4,
 "nbformat_minor": 5
}
