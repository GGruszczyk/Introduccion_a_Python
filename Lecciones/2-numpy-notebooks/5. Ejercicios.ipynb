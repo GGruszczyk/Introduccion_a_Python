{
 "cells": [
  {
   "cell_type": "markdown",
   "id": "a4fea8dd",
   "metadata": {},
   "source": [
    "# NumPy - Ejercicios"
   ]
  },
  {
   "cell_type": "markdown",
   "id": "dd200fa3",
   "metadata": {},
   "source": [
    "### 1. Crea una función que reciba como parámetro un número n y devuelva una matriz cuadrada (dos dimensiones) de nxn donde los elementos de la matriz principal valgan 1 y el resto valgan n."
   ]
  },
  {
   "cell_type": "code",
   "execution_count": 1,
   "id": "dbd0322e",
   "metadata": {},
   "outputs": [],
   "source": [
    "import numpy as np"
   ]
  },
  {
   "cell_type": "code",
   "execution_count": 2,
   "id": "b2e2d7ec",
   "metadata": {},
   "outputs": [
    {
     "data": {
      "text/plain": [
       "array([[1, 5, 5, 5, 5],\n",
       "       [5, 1, 5, 5, 5],\n",
       "       [5, 5, 1, 5, 5],\n",
       "       [5, 5, 5, 1, 5],\n",
       "       [5, 5, 5, 5, 1]])"
      ]
     },
     "execution_count": 2,
     "metadata": {},
     "output_type": "execute_result"
    }
   ],
   "source": [
    "def square_matrix(n):\n",
    "    a = np.full((n,n),n)\n",
    "    np.fill_diagonal(a, 1)\n",
    "    return a\n",
    "\n",
    "square_matrix(5)   "
   ]
  },
  {
   "cell_type": "markdown",
   "id": "001e7692",
   "metadata": {},
   "source": [
    "### 2. Crea una función que reciba dos números n y m que definirán ancho y alto de una matriz de nxm elementos numéricos secuenciales y un booleano que definirá si se debe devolver la matriz generada (False) o su traspuesta (True)."
   ]
  },
  {
   "cell_type": "code",
   "execution_count": 3,
   "id": "0e8cc381",
   "metadata": {},
   "outputs": [
    {
     "name": "stdout",
     "output_type": "stream",
     "text": [
      "[[ 0  1  2  3  4  5  6  7  8  9]\n",
      " [10 11 12 13 14 15 16 17 18 19]\n",
      " [20 21 22 23 24 25 26 27 28 29]\n",
      " [30 31 32 33 34 35 36 37 38 39]\n",
      " [40 41 42 43 44 45 46 47 48 49]]\n",
      "\n",
      " [[ 0 10 20 30 40]\n",
      " [ 1 11 21 31 41]\n",
      " [ 2 12 22 32 42]\n",
      " [ 3 13 23 33 43]\n",
      " [ 4 14 24 34 44]\n",
      " [ 5 15 25 35 45]\n",
      " [ 6 16 26 36 46]\n",
      " [ 7 17 27 37 47]\n",
      " [ 8 18 28 38 48]\n",
      " [ 9 19 29 39 49]]\n"
     ]
    }
   ],
   "source": [
    "def matrix(n, m, transpose=False):\n",
    "    matrix = np.array(range(n*m))\n",
    "    if transpose == True:\n",
    "        return np.matrix.transpose(matrix.reshape(n,m))    \n",
    "    return matrix.reshape(n,m)\n",
    " \n",
    "print(matrix(5,10))\n",
    "print(\"\\n\", matrix(5,10,True))"
   ]
  },
  {
   "cell_type": "markdown",
   "id": "eaefa984",
   "metadata": {},
   "source": [
    "### 3. Crea una función que genere un esquema de tablero de ajedrez (con valores 1 y 0, enteros) en base a dos parámetros: la dimensión (cuadrada) del tablero n y un flag que indique si el primer elemento de la primera fila debe ser un 1 (True) o un 0 (False)."
   ]
  },
  {
   "cell_type": "code",
   "execution_count": 4,
   "id": "c8871cd4",
   "metadata": {},
   "outputs": [
    {
     "name": "stdout",
     "output_type": "stream",
     "text": [
      "[[1 0 1 0 1]\n",
      " [0 1 0 1 0]\n",
      " [1 0 1 0 1]\n",
      " [0 1 0 1 0]\n",
      " [1 0 1 0 1]]\n",
      "\n",
      " [[0 1 0 1 0]\n",
      " [1 0 1 0 1]\n",
      " [0 1 0 1 0]\n",
      " [1 0 1 0 1]\n",
      " [0 1 0 1 0]]\n"
     ]
    }
   ],
   "source": [
    "def chessboard(n, flag = True):\n",
    "    chboard = np.zeros(n*n, dtype=np.int16)\n",
    "    if flag == True:\n",
    "        chboard[::2] = 1\n",
    "    else:\n",
    "        chboard[1::2] = 1\n",
    "    return chboard.reshape(n,n)\n",
    "\n",
    "n=5\n",
    "print(chessboard(n))\n",
    "print(\"\\n\",chessboard(n,False))"
   ]
  },
  {
   "cell_type": "markdown",
   "id": "9cf56c89",
   "metadata": {},
   "source": [
    "### 4. Crea una función que reciba dos arrays y genere un array que tenga 0 en todos los elementos y 1 en aquellos elementos del primer array que sean mayores que su equivalente del segundo array."
   ]
  },
  {
   "cell_type": "code",
   "execution_count": 5,
   "id": "b65321d0",
   "metadata": {},
   "outputs": [
    {
     "data": {
      "text/plain": [
       "array([[1, 1, 1, 0],\n",
       "       [1, 0, 0, 1],\n",
       "       [1, 0, 0, 1],\n",
       "       [1, 0, 0, 1]])"
      ]
     },
     "execution_count": 5,
     "metadata": {},
     "output_type": "execute_result"
    }
   ],
   "source": [
    "def matrix(arr1, arr2):\n",
    "    arr_result = arr1 - arr2\n",
    "    arr_result[arr_result < 0] = 0\n",
    "    arr_result[arr_result > 0] = 1\n",
    "    return arr_result\n",
    "\n",
    "array1 = np.random.randint(10, size=(4,4))\n",
    "array2 = np.random.randint(10, size=(4,4))\n",
    "\n",
    "matrix(array1, array2)"
   ]
  },
  {
   "cell_type": "markdown",
   "id": "5f592868",
   "metadata": {},
   "source": [
    "### 5. Crea una función que reciba un array y una tupla de enteros y devuelva la matriz resultante de seleccionar los índices de la tupla aplicados desde el final."
   ]
  },
  {
   "cell_type": "code",
   "execution_count": 6,
   "id": "d256e29f",
   "metadata": {},
   "outputs": [
    {
     "data": {
      "text/plain": [
       "array([[5, 2, 1, 7, 2, 7, 9, 9, 3, 6],\n",
       "       [5, 0, 2, 2, 7, 3, 1, 3, 6, 4]])"
      ]
     },
     "execution_count": 6,
     "metadata": {},
     "output_type": "execute_result"
    }
   ],
   "source": [
    "array = np.random.randint(10, size=10)\n",
    "tupla = tuple(np.random.randint(10, size=10))\n",
    "\n",
    "def build_array(p_array, p_tuple):\n",
    "    return np.array([p_array,p_tuple[::-1]])\n",
    "\n",
    "build_array(array, tupla)"
   ]
  },
  {
   "cell_type": "markdown",
   "id": "f23eeafa",
   "metadata": {},
   "source": [
    "### 6. Replica la función del ejercicio 4 utilizando la función np.where"
   ]
  },
  {
   "cell_type": "code",
   "execution_count": 7,
   "id": "50ebb02b",
   "metadata": {},
   "outputs": [
    {
     "data": {
      "text/plain": [
       "array([[1, 0, 1, 1],\n",
       "       [1, 1, 0, 1],\n",
       "       [0, 1, 0, 1],\n",
       "       [1, 1, 0, 0]])"
      ]
     },
     "execution_count": 7,
     "metadata": {},
     "output_type": "execute_result"
    }
   ],
   "source": [
    "def matrix(arr1, arr2):\n",
    "    arr_result = np.where(arr1 - arr2 < 0, 0, 1)\n",
    "    return arr_result\n",
    "\n",
    "array1 = np.random.randint(10, size=(4,4))\n",
    "array2 = np.random.randint(10, size=(4,4))\n",
    "\n",
    "matrix(array1, array2)"
   ]
  },
  {
   "cell_type": "markdown",
   "id": "b44bf216",
   "metadata": {},
   "source": [
    "### 7. Crea una función que reciba una matriz y chequee si hay o no algún valor negativo en la misma."
   ]
  },
  {
   "cell_type": "code",
   "execution_count": 8,
   "id": "ab014583",
   "metadata": {
    "scrolled": true
   },
   "outputs": [
    {
     "name": "stdout",
     "output_type": "stream",
     "text": [
      "Example 1\n",
      "True\n",
      "[[ 0.67611274  0.1092629   0.42015929 -1.12687087]\n",
      " [-1.15649395  0.66333102 -2.27359962  0.25734005]\n",
      " [-0.34925714 -0.71860931 -0.27004875  0.61074066]\n",
      " [-0.90674318  0.90242589  1.50916383  0.17807893]]\n",
      "Example 2\n",
      "False\n",
      "[[1 9 8 9]\n",
      " [2 1 4 7]\n",
      " [3 5 4 8]\n",
      " [1 8 8 7]]\n"
     ]
    }
   ],
   "source": [
    "def any_negative(matrix):\n",
    "    return np.any(a=matrix<0)\n",
    "\n",
    "print(\"Example 1\")\n",
    "matrix = np.random.randn(4,4)\n",
    "print(any_negative(matrix))\n",
    "print(matrix)\n",
    "\n",
    "print(\"Example 2\")\n",
    "matrix = np.random.randint(10, size=(4,4))\n",
    "print(any_negative(matrix))\n",
    "print(matrix)"
   ]
  },
  {
   "cell_type": "markdown",
   "id": "1d95c3a2",
   "metadata": {},
   "source": [
    "### 8. Crea una función que utilizando la del ejercicio anterior, sume el valor absoluto de todos los elementos negativos de una matriz recibida como parámetro o devuelve \"No hay negativos\" en caso de que no los haya."
   ]
  },
  {
   "cell_type": "code",
   "execution_count": 9,
   "id": "7aa8b8a1",
   "metadata": {},
   "outputs": [
    {
     "name": "stdout",
     "output_type": "stream",
     "text": [
      "Example 1\n",
      "33\n",
      "[[-2 -4  1 -5]\n",
      " [ 3 -1  2 -5]\n",
      " [ 4  1  4 -3]\n",
      " [-4 -5 -4  1]]\n",
      "Example 2\n",
      "No hay negativos\n",
      "[[4 3 2 3]\n",
      " [0 3 0 3]\n",
      " [1 0 1 4]\n",
      " [4 0 4 4]]\n"
     ]
    }
   ],
   "source": [
    "def sum_abs_negative_values(matrix):\n",
    "    if any_negative(matrix):\n",
    "        return np.sum(np.abs(matrix[matrix<0]))\n",
    "    return \"No hay negativos\"\n",
    "\n",
    "print(\"Example 1\")\n",
    "matrix = np.random.randint(low=-5, high=5, size=(4,4))\n",
    "print(sum_abs_negative_values(matrix))\n",
    "print(matrix)\n",
    "\n",
    "print(\"Example 2\")\n",
    "matrix = np.random.randint(5, size=(4,4))\n",
    "print(sum_abs_negative_values(matrix))\n",
    "print(matrix)"
   ]
  },
  {
   "cell_type": "markdown",
   "id": "99d04b1d",
   "metadata": {},
   "source": [
    "### 9. Crea una función que reciba una matriz unidimensional con nombres, una matriz con el mismo ancho que la matriz de nombres que contenga valores numéricos y un nombre de los de la primera lista. Deberá devolver, en una tupla, los descriptivos (mínimo, máximo, media, mediana y desviación típica) del vector de valores \"asociado\" al nombre seleccionado por posición. Ten en cuenta que el nombre introducido puede no estar en el listado y contrólalo."
   ]
  },
  {
   "cell_type": "code",
   "execution_count": 10,
   "id": "34264009",
   "metadata": {},
   "outputs": [
    {
     "name": "stdout",
     "output_type": "stream",
     "text": [
      "Scenario 1\n",
      "\n",
      "data:\n",
      " [[5 6 1 3]\n",
      " [8 8 2 5]\n",
      " [9 8 3 3]\n",
      " [9 4 8 6]]\n",
      "\n",
      "selected row [[8 8 2 5]]\n",
      "\n",
      "statistics (2, 8, 5.75, 2.48746859276655, 6.5)\n",
      "\n",
      "Scenario 2\n",
      "\n",
      "phisics is not in ['ciencias' 'mates' 'lengua' 'reli']\n"
     ]
    }
   ],
   "source": [
    "def selected_row_stats(names, matrix, name):\n",
    "    if(name in names):\n",
    "        row_selected = matrix[names == name]\n",
    "        return tuple((row_selected.min(),\n",
    "                      row_selected.max(), \n",
    "                      row_selected.mean(),\n",
    "                      row_selected.std(),\n",
    "                      np.median(row_selected)))    \n",
    "    return str(name + \" is not in \" + np.array2string(names))\n",
    "\n",
    "print(\"Scenario 1\\n\")\n",
    "names = np.array([\"ciencias\", \"mates\", \"lengua\", \"reli\"])\n",
    "matrix = np.random.randint(10,size=(len(names),len(names)))\n",
    "name = \"mates\"\n",
    "print(\"data:\\n\", matrix)\n",
    "print(\"\\nselected row\", matrix[names == name])\n",
    "print(\"\\nstatistics\", selected_row_stats(names, matrix, name))\n",
    "\n",
    "print(\"\\nScenario 2\\n\")\n",
    "name = \"phisics\"\n",
    "print(selected_row_stats(names, matrix, name))"
   ]
  },
  {
   "cell_type": "markdown",
   "id": "095bbe55",
   "metadata": {},
   "source": [
    "### 10. Crea una función que reciba dos matrices y devuelva la secuencia ordenada de la union de los elementos únicos de ambas."
   ]
  },
  {
   "cell_type": "code",
   "execution_count": 11,
   "id": "e8e3a3d5",
   "metadata": {},
   "outputs": [
    {
     "name": "stdout",
     "output_type": "stream",
     "text": [
      "[10  2  6  2  6 15 12  3  3  8]\n",
      "[ 6  0 10 19 11  4 14  7 18  9]\n"
     ]
    },
    {
     "data": {
      "text/plain": [
       "array([ 2,  3,  6,  8, 10, 12, 15])"
      ]
     },
     "execution_count": 11,
     "metadata": {},
     "output_type": "execute_result"
    }
   ],
   "source": [
    "def merged_matrix(matrix1:np.ndarray, matrix2:np.ndarray):\n",
    "    return np.union1d(np.unique(matrix1), np.unique(matrix1))\n",
    "\n",
    "matrix_1 = np.random.randint(20, size=(10))\n",
    "matrix_2 = np.random.randint(20, size=(10))\n",
    "\n",
    "print(matrix_1)\n",
    "print(matrix_2)\n",
    "\n",
    "merged_matrix(matrix_1,matrix_1)"
   ]
  },
  {
   "cell_type": "markdown",
   "id": "0f20eb4d",
   "metadata": {},
   "source": [
    "### 11. Crea una función que reciba un número n, genere una matriz nxn a partir de una secuencia numérica y escriba la misma en un fichero cuyo nombre se recibirá también como parámetro. Hazlo con ficheros binarios."
   ]
  },
  {
   "cell_type": "code",
   "execution_count": 12,
   "id": "c4d8ce57",
   "metadata": {
    "scrolled": true
   },
   "outputs": [
    {
     "name": "stdout",
     "output_type": "stream",
     "text": [
      "[[ 0.61864106  0.38284348 -0.27949407 -0.54855203  1.11130291]\n",
      " [-1.14767228 -0.68878563 -1.40961464 -0.09436063 -0.87864163]\n",
      " [-0.00576056  0.87147103  0.10531019 -0.91465929 -0.47847557]\n",
      " [-0.07697044  0.04692363  1.36491535  0.21888146 -0.12953974]\n",
      " [ 1.66988411  1.69985085  0.78191993 -0.91127908 -1.95883347]]\n"
     ]
    }
   ],
   "source": [
    "def write_binary_file(n,binary_file_name):\n",
    "    sequence = np.random.randn(n,n)\n",
    "    np.save(binary_file_name, sequence)\n",
    "    \n",
    "write_binary_file(5, \"numpy_file\")\n",
    "print(np.load(\"numpy_file.npy\"))"
   ]
  },
  {
   "cell_type": "markdown",
   "id": "5e9a6b1d",
   "metadata": {},
   "source": [
    "### 12. Crea una función que reciba el nombre de un fichero binario de NumPy, lo lea como binario, sume el contenido del mismo por filas y guarde el resultado en un fichero de texto con el mismo nombre (pero extensión txt)."
   ]
  },
  {
   "cell_type": "code",
   "execution_count": 13,
   "id": "8f49f7a2",
   "metadata": {},
   "outputs": [
    {
     "data": {
      "text/plain": [
       "array([ 1.28474135, -4.21907481, -0.42211419,  1.42421027,  1.28154234])"
      ]
     },
     "execution_count": 13,
     "metadata": {},
     "output_type": "execute_result"
    }
   ],
   "source": [
    "def rows_sum_binary_file(file_name):\n",
    "    array = np.load(file_name+\".npy\", allow_pickle=True)\n",
    "    sum_rows_array = np.sum(array, axis=1)\n",
    "    np.savetxt(file_name+\".txt\", sum_rows_array, delimiter=',')\n",
    "\n",
    "file_name = \"numpy_file\"\n",
    "rows_sum_binary_file(file_name)\n",
    "\n",
    "np.loadtxt(file_name+\".txt\",delimiter=',')"
   ]
  },
  {
   "cell_type": "markdown",
   "id": "db8f1417",
   "metadata": {},
   "source": [
    "### 13. Crea una función que reciba dos enteros n y m, genere dos matrices aleatorias (normales 0,1) de dimensiones nxm y mxn y haga el producto escalar de ambas para obtener una matriz nxn. Deberá devolver una tupla con las tres matrices."
   ]
  },
  {
   "cell_type": "code",
   "execution_count": 14,
   "id": "58316438",
   "metadata": {},
   "outputs": [
    {
     "data": {
      "text/plain": [
       "(array([[ 1.75417893,  0.6923276 , -1.13073449,  0.46125232],\n",
       "        [-2.19812131,  0.50811683,  0.55644116,  0.06254384],\n",
       "        [-0.49963861, -1.00048606, -1.17700036,  0.84856853]]),\n",
       " array([[ 0.02936129,  0.65688452, -0.20619505],\n",
       "        [ 1.63123899, -0.2291421 ,  0.15968284],\n",
       "        [ 0.6274632 , -0.58781962, -0.9419607 ],\n",
       "        [ 2.39973316, -1.15918654,  0.03479731]]),\n",
       " array([[ 1.57824493,  1.12364203,  0.83000762],\n",
       "        [ 1.26355521, -1.95992984,  0.01240992],\n",
       "        [-0.34888828, -0.3907367 ,  1.08147854]]))"
      ]
     },
     "execution_count": 14,
     "metadata": {},
     "output_type": "execute_result"
    }
   ],
   "source": [
    "def dot_matrix(n,m):\n",
    "    matrix_a = np.random.randn(n,m)\n",
    "    matrix_b = np.random.randn(m,n)\n",
    "    dot_matix = np.dot(matrix_a, matrix_b)\n",
    "    return tuple((matrix_a, matrix_b, dot_matix))\n",
    "\n",
    "dot_matrix(3,4)"
   ]
  },
  {
   "cell_type": "markdown",
   "id": "2f21bb48",
   "metadata": {},
   "source": [
    "### 14. Crea una función que reciba una matriz de datos y un entero n y devuelva una muestra (muestreo aleatorio simple) de n elementos."
   ]
  },
  {
   "cell_type": "code",
   "execution_count": 15,
   "id": "2dffc4f5",
   "metadata": {},
   "outputs": [
    {
     "name": "stdout",
     "output_type": "stream",
     "text": [
      "[26 20 49 13  7 29 17  6 13 10]\n"
     ]
    },
    {
     "data": {
      "text/plain": [
       "array([29, 17, 17])"
      ]
     },
     "execution_count": 15,
     "metadata": {},
     "output_type": "execute_result"
    }
   ],
   "source": [
    "def random_sampling(matrix, n):\n",
    "    return np.random.choice(matrix, n)\n",
    "\n",
    "matrix = np.random.randint(50, size=10)\n",
    "print(matrix)\n",
    "\n",
    "random_sampling(matrix,3)"
   ]
  }
 ],
 "metadata": {
  "kernelspec": {
   "display_name": "Python 3",
   "language": "python",
   "name": "python3"
  },
  "language_info": {
   "codemirror_mode": {
    "name": "ipython",
    "version": 3
   },
   "file_extension": ".py",
   "mimetype": "text/x-python",
   "name": "python",
   "nbconvert_exporter": "python",
   "pygments_lexer": "ipython3",
   "version": "3.10.11"
  }
 },
 "nbformat": 4,
 "nbformat_minor": 5
}
